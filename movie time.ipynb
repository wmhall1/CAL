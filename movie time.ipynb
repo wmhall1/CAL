{
 "cells": [
  {
   "cell_type": "code",
   "execution_count": 4,
   "id": "edd97f86-8806-45a2-86bb-302f90ea2815",
   "metadata": {},
   "outputs": [
    {
     "name": "stdout",
     "output_type": "stream",
     "text": [
      "Video saved to output_video.mp4\n"
     ]
    }
   ],
   "source": [
    "import cv2\n",
    "import os\n",
    "import glob\n",
    "\n",
    "# Configuration\n",
    "image_pattern = \"Images/*.png\"  # Adjust the pattern if needed\n",
    "output_video = \"output_video.mp4\"\n",
    "fps = 4  # Frames per second\n",
    "\n",
    "# Get list of matching PNG files\n",
    "images = sorted(glob.glob(image_pattern))\n",
    "\n",
    "if not images:\n",
    "    print(\"No matching images found.\")\n",
    "    raise StopIteration\n",
    "\n",
    "# Read the first image to get the frame size\n",
    "first_frame = cv2.imread(images[0])\n",
    "height, width, layers = first_frame.shape\n",
    "\n",
    "# Define the video writer with proper codec\n",
    "fourcc = cv2.VideoWriter_fourcc(*'mp4v')  # Use 'XVID' for .avi\n",
    "video_writer = cv2.VideoWriter(output_video, fourcc, fps, (width, height))\n",
    "\n",
    "# Add each image to the video\n",
    "for image_path in images:\n",
    "    frame = cv2.imread(image_path)\n",
    "    if frame is None:\n",
    "        print(f\"Warning: Could not read image {image_path}. Skipping.\")\n",
    "        continue\n",
    "    video_writer.write(frame)\n",
    "\n",
    "# Release the video writer\n",
    "video_writer.release()\n",
    "print(f\"Video saved to {output_video}\")\n"
   ]
  },
  {
   "cell_type": "code",
   "execution_count": null,
   "id": "8da7abea-1534-436e-a1c9-7b730e090eca",
   "metadata": {},
   "outputs": [],
   "source": []
  }
 ],
 "metadata": {
  "kernelspec": {
   "display_name": "Python 3 (ipykernel)",
   "language": "python",
   "name": "python3"
  },
  "language_info": {
   "codemirror_mode": {
    "name": "ipython",
    "version": 3
   },
   "file_extension": ".py",
   "mimetype": "text/x-python",
   "name": "python",
   "nbconvert_exporter": "python",
   "pygments_lexer": "ipython3",
   "version": "3.12.4"
  }
 },
 "nbformat": 4,
 "nbformat_minor": 5
}
